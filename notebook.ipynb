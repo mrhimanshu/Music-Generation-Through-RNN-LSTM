{
 "cells": [
  {
   "cell_type": "code",
   "execution_count": 2,
   "metadata": {},
   "outputs": [],
   "source": [
    "import sys\n",
    "import re \n",
    "import numpy as np \n",
    "import pandas as pd\n",
    "import music21\n",
    "from glob import glob\n",
    "import IPython\n",
    "from tqdm import tqdm\n",
    "import pickle\n",
    "from keras.utils import np_utils\n",
    "from music21 import converter, instrument, note, chord, stream\n",
    "import tensorflow as tf\n",
    "\n",
    "import mitdeeplearning as mdl"
   ]
  },
  {
   "cell_type": "code",
   "execution_count": 391,
   "metadata": {},
   "outputs": [],
   "source": [
    "songs = glob('midiclassics/*/*.mid')"
   ]
  },
  {
   "cell_type": "code",
   "execution_count": 393,
   "metadata": {},
   "outputs": [],
   "source": [
    "song = songs[:3]"
   ]
  },
  {
   "cell_type": "code",
   "execution_count": 394,
   "metadata": {},
   "outputs": [
    {
     "data": {
      "text/plain": [
       "['midiclassics\\\\Albéniz\\\\Aragon (Fantasia) Op.47 part 6.mid',\n",
       " 'midiclassics\\\\Albéniz\\\\Castilla (Seguidillas) Op.47 part 7.mid',\n",
       " 'midiclassics\\\\Albéniz\\\\Cataluna (Curranda), No.2 from Suite Espanola.mid']"
      ]
     },
     "execution_count": 394,
     "metadata": {},
     "output_type": "execute_result"
    }
   ],
   "source": [
    "song"
   ]
  },
  {
   "cell_type": "code",
   "execution_count": 429,
   "metadata": {},
   "outputs": [
    {
     "data": {
      "text/plain": [
       "array([1239, 1000,  580,  936,  753,  416,   70,  797,  329, 1231, 1215,\n",
       "        701,  636, 1513,  108,  190, 1116,  619, 1115, 1502, 1303, 1124,\n",
       "       1198,  734,  871,  618,  189,  472,  945,  757,  770,    6, 1304,\n",
       "       1103, 1470,  966,   88,  974, 1491, 1504, 1352,  483,  178,   39,\n",
       "       1593,  312, 1195,  581, 1570, 1338,  955,  601, 1045,  426, 1027,\n",
       "       1373,  567,  899,  892, 1596, 1567,  111,  251, 1174,  608, 1485,\n",
       "        927, 1067, 1084,   77,  115, 1314, 1746, 1429,  148,  393,  557,\n",
       "       1690, 1155, 1302,  559,  446,  980,   98,  680,  417,  933,   13,\n",
       "        528,  288, 1387,  664, 1157, 1053,  366, 1051, 1789, 1165, 1461,\n",
       "       1311])"
      ]
     },
     "execution_count": 429,
     "metadata": {},
     "output_type": "execute_result"
    }
   ],
   "source": [
    "song_index = np.random.choice(len(songs), 100 , replace=False)\n",
    "song_index"
   ]
  },
  {
   "cell_type": "code",
   "execution_count": 430,
   "metadata": {},
   "outputs": [],
   "source": [
    "def get_notes():\n",
    "    notes = []\n",
    "    for i in tqdm(song_index):\n",
    "        # converting .mid file to stream object\n",
    "        try:\n",
    "            midi = converter.parse(songs[i])\n",
    "            notes_to_parse = []\n",
    "            try:\n",
    "                # Given a single stream, partition into a part for each unique instrument\n",
    "                parts = instrument.partitionByInstrument(midi)\n",
    "            except:\n",
    "                pass\n",
    "            if parts: # if parts has instrument parts \n",
    "                notes_to_parse = parts.parts[0].recurse()\n",
    "            else:\n",
    "                notes_to_parse = midi.flat.notes\n",
    "        \n",
    "            for element in notes_to_parse: \n",
    "                if isinstance(element, note.Note):\n",
    "                    # if element is a note, extract pitch\n",
    "                    notes.append(str(element.pitch))\n",
    "                elif(isinstance(element, chord.Chord)):\n",
    "                    # if element is a chord, append the normal form of the \n",
    "                    # chord (a list of integers) to the list of notes. \n",
    "                    notes.append('.'.join(str(n) for n in element.normalOrder))\n",
    "        except:\n",
    "            pass\n",
    "    with open('data/notes', 'wb') as filepath:\n",
    "        pickle.dump(notes, filepath)\n",
    "    \n",
    "    return notes"
   ]
  },
  {
   "cell_type": "code",
   "execution_count": null,
   "metadata": {},
   "outputs": [],
   "source": [
    "get_notes()"
   ]
  },
  {
   "cell_type": "code",
   "execution_count": 3,
   "metadata": {},
   "outputs": [],
   "source": [
    "with open('data/notes', 'rb') as filepath:\n",
    "        notes = pickle.load(filepath)"
   ]
  },
  {
   "cell_type": "code",
   "execution_count": 4,
   "metadata": {},
   "outputs": [
    {
     "name": "stdout",
     "output_type": "stream",
     "text": [
      "There are 539 unique characters in the dataset\n"
     ]
    }
   ],
   "source": [
    "# Find all unique characters in the joined string\n",
    "vocab = sorted(set(notes))\n",
    "print(\"There are\", len(vocab), \"unique characters in the dataset\")"
   ]
  },
  {
   "cell_type": "code",
   "execution_count": 6,
   "metadata": {},
   "outputs": [],
   "source": [
    "#Vectorize the text\n",
    "char2idx = {u:i for i, u in enumerate(vocab)}\n",
    "\n",
    "# Create a mapping from indices to characters. This is\n",
    "#   the inverse of char2idx and allows us to convert back\n",
    "#   from unique index to the character in our vocabulary.\n",
    "idx2char = np.array(vocab)"
   ]
  },
  {
   "cell_type": "code",
   "execution_count": 437,
   "metadata": {},
   "outputs": [],
   "source": [
    "# Vectorizing whole song data\n",
    "def vectorize_string(string):\n",
    "  vectorized_output = np.array([char2idx[char] for char in string])\n",
    "  return vectorized_output\n",
    "\n",
    "# def vectorize_string(string):\n",
    "\n",
    "vectorized_songs = vectorize_string(notes)"
   ]
  },
  {
   "cell_type": "code",
   "execution_count": 438,
   "metadata": {},
   "outputs": [
    {
     "data": {
      "text/plain": [
       "77972"
      ]
     },
     "execution_count": 438,
     "metadata": {},
     "output_type": "execute_result"
    }
   ],
   "source": [
    "len(vectorized_songs)"
   ]
  },
  {
   "cell_type": "code",
   "execution_count": 439,
   "metadata": {},
   "outputs": [],
   "source": [
    "### Batch definition to create training examples ###\n",
    "\n",
    "def get_batch(vectorized_songs, seq_length, batch_size):\n",
    "  # the length of the vectorized songs string\n",
    "  n = vectorized_songs.shape[0] - 1\n",
    "  # randomly choose the starting indices for the examples in the training batch\n",
    "  idx = np.random.choice(n-seq_length, batch_size)\n",
    "\n",
    "  '''TODO: construct a list of input sequences for the training batch'''\n",
    "  input_batch = [vectorized_songs[i : i+seq_length] for i in idx]\n",
    "  \n",
    "  '''TODO: construct a list of output sequences for the training batch'''\n",
    "  output_batch = [vectorized_songs[i+1 : i+seq_length+1] for i in idx]\n",
    "  \n",
    "\n",
    "  # x_batch, y_batch provide the true inputs and targets for network training\n",
    "  x_batch = np.reshape(input_batch, [batch_size, seq_length])\n",
    "  y_batch = np.reshape(output_batch, [batch_size, seq_length])\n",
    "  return x_batch, y_batch"
   ]
  },
  {
   "cell_type": "code",
   "execution_count": 440,
   "metadata": {},
   "outputs": [
    {
     "name": "stdout",
     "output_type": "stream",
     "text": [
      "Step   0\n",
      "  input: [ 77  55 535 353  57] (array(['1.5', '1.3', 'G5', '7.10', '1.3.5'], dtype='<U14'))\n",
      "  expected output: [ 55 535 353  57  77] (array(['1.3', 'G5', '7.10', '1.3.5', '1.5'], dtype='<U14'))\n",
      "Step   1\n",
      "  input: [493 493 155   8 154] (array(['D4', 'D4', '2.3', '0.2', '2'], dtype='<U14'))\n",
      "  expected output: [493 155   8 154 493] (array(['D4', '2.3', '0.2', '2', 'D4'], dtype='<U14'))\n"
     ]
    }
   ],
   "source": [
    "#sample check\n",
    "x_batch, y_batch = get_batch(vectorized_songs, seq_length=5, batch_size=2)\n",
    "\n",
    "for i, (input_idx, target_idx) in enumerate(zip(np.squeeze(x_batch), np.squeeze(y_batch))):\n",
    "    print(\"Step {:3d}\".format(i))\n",
    "    print(\"  input: {} ({:s})\".format(input_idx, repr(idx2char[input_idx])))\n",
    "    print(\"  expected output: {} ({:s})\".format(target_idx, repr(idx2char[target_idx])))"
   ]
  },
  {
   "cell_type": "code",
   "execution_count": 441,
   "metadata": {},
   "outputs": [],
   "source": [
    "def LSTM(rnn_units): \n",
    "  return tf.keras.layers.LSTM(\n",
    "    rnn_units, \n",
    "    return_sequences=True, \n",
    "    recurrent_initializer='glorot_uniform',\n",
    "    recurrent_activation='sigmoid',\n",
    "    stateful=True,\n",
    "  )"
   ]
  },
  {
   "cell_type": "code",
   "execution_count": 442,
   "metadata": {},
   "outputs": [],
   "source": [
    "### Defining the RNN Model ###\n",
    "\n",
    "'''Add LSTM and Dense layers to define the RNN model using the Sequential API.'''\n",
    "def build_model(vocab_size, embedding_dim, rnn_units, batch_size):\n",
    "  model = tf.keras.Sequential([\n",
    "    # Layer 1: Embedding layer to transform indices into dense vectors \n",
    "    #   of a fixed embedding size\n",
    "    tf.keras.layers.Embedding(vocab_size, embedding_dim, batch_input_shape=[batch_size, None]),\n",
    "\n",
    "    # Layer 2: LSTM with `rnn_units` number of units. \n",
    "    #  Call the LSTM function defined above to add this layer.\n",
    "    LSTM(rnn_units), \n",
    "\n",
    "    # Layer 3: Dense (fully-connected) layer that transforms the LSTM output\n",
    "    #   into the vocabulary size. \n",
    "    # Add the Dense layer.\n",
    "    tf.keras.layers.Dense(vocab_size)\n",
    "  \n",
    "  ])\n",
    "\n",
    "  return model\n",
    "\n",
    "# Build a simple model with default hyperparameters. You will get the \n",
    "#   chance to change these later.\n",
    "model = build_model(len(vocab), embedding_dim=256, rnn_units=1024, batch_size=32)"
   ]
  },
  {
   "cell_type": "code",
   "execution_count": 443,
   "metadata": {},
   "outputs": [
    {
     "name": "stdout",
     "output_type": "stream",
     "text": [
      "Model: \"sequential_7\"\n",
      "_________________________________________________________________\n",
      " Layer (type)                Output Shape              Param #   \n",
      "=================================================================\n",
      " embedding_7 (Embedding)     (32, None, 256)           137984    \n",
      "                                                                 \n",
      " lstm_7 (LSTM)               (32, None, 1024)          5246976   \n",
      "                                                                 \n",
      " dense_7 (Dense)             (32, None, 539)           552475    \n",
      "                                                                 \n",
      "=================================================================\n",
      "Total params: 5,937,435\n",
      "Trainable params: 5,937,435\n",
      "Non-trainable params: 0\n",
      "_________________________________________________________________\n"
     ]
    }
   ],
   "source": [
    "model.summary()"
   ]
  },
  {
   "cell_type": "code",
   "execution_count": 445,
   "metadata": {},
   "outputs": [
    {
     "name": "stdout",
     "output_type": "stream",
     "text": [
      "Input shape:       (32, 100)  # (batch_size, sequence_length)\n",
      "Prediction shape:  (32, 100, 539) # (batch_size, sequence_length, vocab_size)\n"
     ]
    }
   ],
   "source": [
    "x, y = get_batch(vectorized_songs, seq_length=100, batch_size=32)\n",
    "pred = model(x)\n",
    "print(\"Input shape:      \", x.shape, \" # (batch_size, sequence_length)\")\n",
    "print(\"Prediction shape: \", pred.shape, \"# (batch_size, sequence_length, vocab_size)\")"
   ]
  },
  {
   "cell_type": "code",
   "execution_count": 446,
   "metadata": {},
   "outputs": [
    {
     "data": {
      "text/plain": [
       "array([ 60, 211,  75, 521,  14, 126, 529, 292, 523, 174,  67,  85, 399,\n",
       "       262,  97, 236, 352, 141, 106,  57, 469, 323, 157,  95, 350, 205,\n",
       "       154,  92, 316, 530, 342, 242, 121, 457, 387, 421,  43, 341, 538,\n",
       "       227, 429, 333, 163, 286, 111, 415, 235,  56, 413, 208, 453, 164,\n",
       "       498, 441,  16, 453, 374, 348,  92, 222, 350, 261, 280, 139, 145,\n",
       "       154, 338, 205, 404, 375, 339, 275, 465, 269, 294, 177,  18, 537,\n",
       "       505, 321, 187,  54, 131,  24, 486, 431, 454, 388, 331, 295, 118,\n",
       "       516, 496, 187, 466, 281, 504, 180,  51, 160], dtype=int64)"
      ]
     },
     "execution_count": 446,
     "metadata": {},
     "output_type": "execute_result"
    }
   ],
   "source": [
    "sampled_indices = tf.random.categorical(pred[0], num_samples=1)\n",
    "sampled_indices = tf.squeeze(sampled_indices,axis=-1).numpy()\n",
    "sampled_indices"
   ]
  },
  {
   "cell_type": "code",
   "execution_count": 447,
   "metadata": {},
   "outputs": [
    {
     "name": "stdout",
     "output_type": "stream",
     "text": [
      "Input: \n",
      " '9.1 4.6 G5 3.6 B3 E-6 3.6 E-6 7.10.1 E6 G5 B3 F#5 E-6 3.6 E-6 7.10.1 E6 G5 11.3.6 F#5 E-6 5.8.11 D6 F5 9.0.4 E5 C6 3.6.9 E-5 C6 7.11.2 B5 D5 0.3.6 C5 A5 4.7.11 G5 6.9.0 F#5 6.9.11 E-5 4.7.11 E2 4.7.11 B4 11.0 A4 B1 B4 B3 B2 B4 9 A3 A4 G1 G4 G3 G2 11.2 7 D4 11.2 0.4 C2 E4 C3 E5 11 D4 D5 A1 C5 C4 A2 E5 0 E4 E5 D3 F5 F4 B2 D4 F4 G#2 B3 F4 F5 D3 F4 D4 B2 F4 B3 G#2 F4 D3'\n",
      "\n",
      "Next Char Predictions: \n",
      " '1.3.6.7 3.5.8.9 1.4.7.9.10 F5 0.2.5.8 11.0.3.7 G#6 5.7.9.1 F7 2.4.8.9 1.4.5 1.7 8.10.3 4.7.8.10 10.1 4.5.7.10.0 7.0.1 11.2.3.6 10.11.0 1.3.5 B-5 6.7.10.11 2.3.5 10.0.4 7 3.5 2 10.0.2.4 6.11 G#7 6.8.9.11 4.6.10 11.0.2 A2 8.0.2 9.0.2 1.2.4.7 6.8.9.1 G9 3.7.9.10 9.1.3 6.8.0 2.4.5 5.7.10 10.11.2.4 8.9.11.2.5 4.5.7 1.3.4 8.9.11 3.5.7 9.2 2.4.5.6 E-3 9.10.3 0.2.6.8 9.2 7.9.0 6.9.11 10.0.2.4 3.7.10 7 4.7.8 5.6.7.8 11.2 11.2.5 2 6.8.11.1 3.5 8.11.1.4 7.9.0.3 6.8.11.2 5.11 B-1 4.8.9 5.7.9.11 2.5.6 0.3 G7 E3 6.7.10.0 2.5.9 1.2.7.8 11.1.2.4 0.3.6.7 C3 9.10 9.2.3 8.0.3 6.7.9.11 5.8 10.3.4 F#7 D7 2.5.9 B-2 5.6.8.11.1 E2 2.5.7 1.2.6.8 2.3.6.7.10'\n"
     ]
    }
   ],
   "source": [
    "print(\"Input: \\n\", repr(\" \".join(idx2char[x[0]])))\n",
    "print()\n",
    "print(\"Next Char Predictions: \\n\", repr(\" \".join(idx2char[sampled_indices])))"
   ]
  },
  {
   "cell_type": "code",
   "execution_count": 448,
   "metadata": {},
   "outputs": [
    {
     "name": "stdout",
     "output_type": "stream",
     "text": [
      "Prediction shape:  (32, 100, 539)  # (batch_size, sequence_length, vocab_size)\n",
      "scalar_loss:       6.2893133\n"
     ]
    }
   ],
   "source": [
    "### Defining the loss function ###\n",
    "\n",
    "'''define the loss function to compute and return the loss between\n",
    "    the true labels and predictions (logits). Set the argument from_logits=True.'''\n",
    "def compute_loss(labels, logits):\n",
    "  loss = tf.keras.losses.sparse_categorical_crossentropy(labels, logits, from_logits=True)\n",
    "  \n",
    "  return loss\n",
    "\n",
    "'''compute the loss using the true next characters from the example batch \n",
    "    and the predictions from the untrained model several cells above'''\n",
    "example_batch_loss = compute_loss(y, pred)\n",
    "\n",
    "\n",
    "print(\"Prediction shape: \", pred.shape, \" # (batch_size, sequence_length, vocab_size)\") \n",
    "print(\"scalar_loss:      \", example_batch_loss.numpy().mean())"
   ]
  },
  {
   "cell_type": "code",
   "execution_count": 481,
   "metadata": {},
   "outputs": [],
   "source": [
    "### Hyperparameter setting and optimization ###\n",
    "\n",
    "# Optimization parameters:\n",
    "num_training_iterations = 1000  # Increase this to train longer\n",
    "batch_size = 12  # Experiment between 1 and 64\n",
    "seq_length = 300  # Experiment between 50 and 500\n",
    "learning_rate = 5e-3  # Experiment between 1e-5 and 1e-1\n",
    "\n",
    "# Model parameters: \n",
    "vocab_size = len(vocab)\n",
    "embedding_dim = 256 \n",
    "rnn_units = 1024  # Experiment between 1 and 2048\n",
    "\n",
    "# Checkpoint location: \n",
    "checkpoint_dir = './training_checkpoints'\n",
    "checkpoint_prefix = os.path.join(checkpoint_dir, \"my_ckpt\")"
   ]
  },
  {
   "cell_type": "code",
   "execution_count": 482,
   "metadata": {},
   "outputs": [
    {
     "data": {
      "image/png": "[encoded data removed]",
      "text/plain": [
       "<Figure size 432x288 with 1 Axes>"
      ]
     },
     "metadata": {
      "image/png": {
       "height": 261,
       "width": 376
      }
     },
     "output_type": "display_data"
    },
    {
     "name": "stderr",
     "output_type": "stream",
     "text": [
      "100%|██████████| 1000/1000 [06:01<00:00,  2.77it/s]\n"
     ]
    },
    {
     "data": {
      "image/png": "[encoded data removed]",
      "text/plain": [
       "<Figure size 432x288 with 1 Axes>"
      ]
     },
     "metadata": {
      "image/png": {
       "height": 261,
       "width": 376
      },
      "needs_background": "light"
     },
     "output_type": "display_data"
    }
   ],
   "source": [
    "### Define optimizer and training operation ###\n",
    "\n",
    "'''instantiate a new model for training using the `build_model`\n",
    "  function and the hyperparameters created above.'''\n",
    "model = build_model(vocab_size, embedding_dim, rnn_units, batch_size)\n",
    "\n",
    "\n",
    "\n",
    "'''Try using the Adam optimizer to start.'''\n",
    "optimizer = tf.keras.optimizers.Adam(learning_rate)\n",
    "\n",
    "\n",
    "@tf.function\n",
    "def train_step(x, y): \n",
    "  # Use tf.GradientTape()\n",
    "  with tf.GradientTape() as tape:\n",
    "  \n",
    "    '''feed the current input into the model and generate predictions'''\n",
    "    y_hat = model(x) \n",
    " \n",
    "  \n",
    "    ''' compute the loss!'''\n",
    "    loss = compute_loss(y, y_hat) \n",
    "    \n",
    "\n",
    "  # Now, compute the gradients \n",
    "  '''complete the function call for gradient computation. \n",
    "      Remember that we want the gradient of the loss with respect all \n",
    "      of the model parameters. \n",
    "      HINT: use `model.trainable_variables` to get a list of all model\n",
    "      parameters.'''\n",
    "  grads = tape.gradient(loss, model.trainable_variables)\n",
    "\n",
    "  \n",
    "  # Apply the gradients to the optimizer so it can update the model accordingly\n",
    "  optimizer.apply_gradients(zip(grads, model.trainable_variables))\n",
    "  return loss\n",
    "\n",
    "##################\n",
    "# Begin training!#\n",
    "##################\n",
    "\n",
    "history = []\n",
    "plotter = mdl.util.PeriodicPlotter(sec=2, xlabel='Iterations', ylabel='Loss')\n",
    "if hasattr(tqdm, '_instances'): tqdm._instances.clear() # clear if it exists\n",
    "\n",
    "for iter in tqdm(range(num_training_iterations)):\n",
    "\n",
    "  # Grab a batch and propagate it through the network\n",
    "  x_batch, y_batch = get_batch(vectorized_songs, seq_length, batch_size)\n",
    "  loss = train_step(x_batch, y_batch)\n",
    "\n",
    "  # Update the progress bar\n",
    "  history.append(loss.numpy().mean())\n",
    "  plotter.plot(history)\n",
    "\n",
    "  # Update the model with the changed weights!\n",
    "  if iter % 100 == 0:     \n",
    "    model.save_weights(checkpoint_prefix)\n",
    "    \n",
    "# Save the trained model and the weights\n",
    "model.save_weights(checkpoint_prefix)"
   ]
  },
  {
   "cell_type": "code",
   "execution_count": 483,
   "metadata": {},
   "outputs": [
    {
     "name": "stdout",
     "output_type": "stream",
     "text": [
      "Model: \"sequential_13\"\n",
      "_________________________________________________________________\n",
      " Layer (type)                Output Shape              Param #   \n",
      "=================================================================\n",
      " embedding_13 (Embedding)    (1, None, 256)            137984    \n",
      "                                                                 \n",
      " lstm_13 (LSTM)              (1, None, 1024)           5246976   \n",
      "                                                                 \n",
      " dense_13 (Dense)            (1, None, 539)            552475    \n",
      "                                                                 \n",
      "=================================================================\n",
      "Total params: 5,937,435\n",
      "Trainable params: 5,937,435\n",
      "Non-trainable params: 0\n",
      "_________________________________________________________________\n"
     ]
    }
   ],
   "source": [
    "'''Rebuild the model using a batch_size=1'''\n",
    "model = build_model(vocab_size, embedding_dim, rnn_units, batch_size=1)\n",
    "\n",
    "# Restore the model weights for the last checkpoint after training\n",
    "model.load_weights(tf.train.latest_checkpoint(checkpoint_dir))\n",
    "model.build(tf.TensorShape([1, None]))\n",
    "\n",
    "model.summary()"
   ]
  },
  {
   "cell_type": "code",
   "execution_count": 484,
   "metadata": {},
   "outputs": [],
   "source": [
    "### Prediction of a generated song ###\n",
    "\n",
    "def generate_text(model, start_string, generation_length=1000):\n",
    "  # Evaluation step (generating notes text using the learned RNN model)\n",
    "  \n",
    "  '''convert the start string to numbers (vectorize)'''\n",
    "  input_eval = [char2idx[s] for s in start_string] \n",
    "  \n",
    "  input_eval = tf.expand_dims(input_eval, 0)\n",
    "  \n",
    "  # Empty string to store our results\n",
    "  text_generated = []\n",
    "  \n",
    "  # Here batch size == 1\n",
    "  model.reset_states()\n",
    "  tqdm._instances.clear()\n",
    "\n",
    "  for i in tqdm(range(generation_length)):\n",
    "      ''' evaluate the inputs and generate the next character predictions'''\n",
    "      predictions = model(input_eval)\n",
    "     \n",
    "      \n",
    "      # Remove the batch dimension\n",
    "      predictions = tf.squeeze(predictions, 0)\n",
    "      \n",
    "      '''use a multinomial distribution to sample'''\n",
    "      predicted_id = tf.random.categorical(predictions, num_samples=1)[-1,0].numpy()\n",
    "      \n",
    "      \n",
    "      # Pass the prediction along with the previous hidden state\n",
    "      #   as the next inputs to the model\n",
    "      input_eval = tf.expand_dims([predicted_id], 0)\n",
    "      \n",
    "      ''' add the predicted character to the generated text!'''\n",
    "      # Hint: consider what format the prediction is in vs. the output\n",
    "      text_generated.append(idx2char[predicted_id])\n",
    " \n",
    "  return text_generated"
   ]
  },
  {
   "cell_type": "code",
   "execution_count": 485,
   "metadata": {},
   "outputs": [
    {
     "name": "stderr",
     "output_type": "stream",
     "text": [
      "100%|██████████| 1000/1000 [00:11<00:00, 84.50it/s]\n"
     ]
    }
   ],
   "source": [
    "generated_text = generate_text(model, start_string=[\"F#5\"], generation_length=1000) "
   ]
  },
  {
   "cell_type": "code",
   "execution_count": null,
   "metadata": {},
   "outputs": [],
   "source": [
    "a = [\"F#5\"]\n",
    "a.extend(generated_text)\n",
    "a"
   ]
  },
  {
   "cell_type": "code",
   "execution_count": 487,
   "metadata": {},
   "outputs": [
    {
     "data": {
      "text/plain": [
       "1001"
      ]
     },
     "execution_count": 487,
     "metadata": {},
     "output_type": "execute_result"
    }
   ],
   "source": [
    "len(a)"
   ]
  },
  {
   "cell_type": "code",
   "execution_count": 488,
   "metadata": {},
   "outputs": [],
   "source": [
    "def create_midi(prediction_output):\n",
    "    \"\"\" convert the output from the prediction to notes and create a midi file\n",
    "        from the notes \"\"\"\n",
    "    offset = 0\n",
    "    output_notes = []\n",
    "\n",
    "    # create note and chord objects based on the values generated by the model\n",
    "    for pattern in prediction_output:\n",
    "        # pattern is a chord\n",
    "        if ('.' in pattern) or pattern.isdigit():\n",
    "            notes_in_chord = pattern.split('.')\n",
    "            notes = []\n",
    "            for current_note in notes_in_chord:\n",
    "                new_note = note.Note(int(current_note))\n",
    "                new_note.storedInstrument = instrument.Piano()\n",
    "                notes.append(new_note)\n",
    "            new_chord = chord.Chord(notes)\n",
    "            new_chord.offset = offset\n",
    "            output_notes.append(new_chord)\n",
    "        # pattern is a note\n",
    "        else:\n",
    "            new_note = note.Note(pattern)\n",
    "            new_note.offset = offset\n",
    "            new_note.storedInstrument = instrument.Piano()\n",
    "            output_notes.append(new_note)\n",
    "\n",
    "        # increase offset each iteration so that notes do not stack\n",
    "        offset += 0.5\n",
    "\n",
    "    midi_stream = stream.Stream(output_notes)\n",
    "    \n",
    "    print('Saving Output file as midi....')\n",
    "\n",
    "    midi_stream.write('midi', fp='generated_output.mid')"
   ]
  },
  {
   "cell_type": "code",
   "execution_count": 489,
   "metadata": {},
   "outputs": [
    {
     "name": "stdout",
     "output_type": "stream",
     "text": [
      "Saving Output file as midi....\n"
     ]
    }
   ],
   "source": [
    "create_midi(a)"
   ]
  },
  {
   "cell_type": "code",
   "execution_count": null,
   "metadata": {},
   "outputs": [],
   "source": []
  }
 ],
 "metadata": {
  "kernelspec": {
   "display_name": "Python 3.9.7 ('testingenv')",
   "language": "python",
   "name": "python3"
  },
  "language_info": {
   "codemirror_mode": {
    "name": "ipython",
    "version": 3
   },
   "file_extension": ".py",
   "mimetype": "text/x-python",
   "name": "python",
   "nbconvert_exporter": "python",
   "pygments_lexer": "ipython3",
   "version": "3.9.7"
  },
  "orig_nbformat": 4,
  "vscode": {
   "interpreter": {
    "hash": "3a30e5e84ddeb3fcb699591c5ce5600d072509016aca675b5c638968c3a8230a"
   }
  }
 },
 "nbformat": 4,
 "nbformat_minor": 2
}
